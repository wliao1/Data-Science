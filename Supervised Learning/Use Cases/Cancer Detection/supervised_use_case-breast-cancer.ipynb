{
 "cells": [
  {
   "cell_type": "markdown",
   "metadata": {},
   "source": [
    "# Supervised Learning Use Case: Predicting Presence of Cancer"
   ]
  },
  {
   "cell_type": "code",
   "execution_count": 2,
   "metadata": {},
   "outputs": [],
   "source": [
    "import numpy as np\n",
    "import pandas as pd\n",
    "import matplotlib.pyplot as plt\n",
    "%matplotlib inline\n",
    "import seaborn as sns\n",
    "import sklearn \n",
    "from sklearn.model_selection import cross_val_score\n",
    "import statsmodels.api as sm\n",
    "from sklearn.linear_model import LogisticRegression\n",
    "from sklearn.linear_model import LogisticRegressionCV\n",
    "from sklearn import linear_model\n",
    "from sklearn import preprocessing\n",
    "np.set_printoptions(suppress=True)\n",
    "from IPython.display import display\n",
    "pd.options.display.float_format = '{:.3f}'.format"
   ]
  },
  {
   "cell_type": "markdown",
   "metadata": {},
   "source": [
    "#### References:\n",
    "1. Feature selection for regularization algorithms(?): https://stats.stackexchange.com/questions/149446/do-we-still-need-to-do-feature-selection-while-using-regularization-algorithms\n",
    "\n",
    "2. Approach to oversampling\n",
    "3. How to use Kbest https://www.quora.com/How-do-I-properly-use-SelectKBest-GridSearchCV-and-cross-validation-in-the-sklearn-package-together\n",
    "4. Pipelines for more efficient code: https://www.civisanalytics.com/blog/workflows-in-python-using-pipeline-and-gridsearchcv-for-more-compact-and-comprehensive-code/\n",
    "5. Model Tuning: http://chenstephen.com/post_model_tuning.html\n",
    "6. Grid Search across multiple classifiers: http://www.codiply.com/blog/hyperparameter-grid-search-across-multiple-models-in-scikit-learn/\n",
    "7. How to think through feature selection: https://towardsdatascience.com/why-how-and-when-to-apply-feature-selection-e9c69adfabf2\n",
    "8. Workflows with Scikit-learn pipelines -- working with multiple models, pipelines, and gridsearches: https://www.kdnuggets.com/2018/01/managing-machine-learning-workflows-scikit-learn-pipelines-part-3.html\n",
    "\n",
    "#### Steps completed:\n",
    "1. Read in data\n",
    "2. Remove null values, address NA values (not an issue with this dataset)\n",
    "3. Feature selection (?)\n",
    "4. Normalize data\n",
    "5. Split data\n",
    "6. Test with logistic regression\n",
    "\n",
    "#### Next steps:\n",
    "1. Fix class imbalance \n",
    "2. Select k best, feature selection, PCA for dimensionality reduction\n",
    "3. Test with remaining algorithims (perform gridsearchCV to parameter optimization), cross validation \n",
    "\n",
    "***Check github again***"
   ]
  },
  {
   "cell_type": "markdown",
   "metadata": {},
   "source": [
    "## Read in Data"
   ]
  },
  {
   "cell_type": "code",
   "execution_count": 3,
   "metadata": {
    "collapsed": true
   },
   "outputs": [],
   "source": [
    "# Read in data\n",
    "df = pd.read_csv('bc_data.csv')"
   ]
  },
  {
   "cell_type": "code",
   "execution_count": 4,
   "metadata": {},
   "outputs": [
    {
     "data": {
      "text/html": [
       "<div>\n",
       "<style>\n",
       "    .dataframe thead tr:only-child th {\n",
       "        text-align: right;\n",
       "    }\n",
       "\n",
       "    .dataframe thead th {\n",
       "        text-align: left;\n",
       "    }\n",
       "\n",
       "    .dataframe tbody tr th {\n",
       "        vertical-align: top;\n",
       "    }\n",
       "</style>\n",
       "<table border=\"1\" class=\"dataframe\">\n",
       "  <thead>\n",
       "    <tr style=\"text-align: right;\">\n",
       "      <th></th>\n",
       "      <th>id</th>\n",
       "      <th>diagnosis</th>\n",
       "      <th>radius_mean</th>\n",
       "      <th>texture_mean</th>\n",
       "      <th>perimeter_mean</th>\n",
       "      <th>area_mean</th>\n",
       "      <th>smoothness_mean</th>\n",
       "      <th>compactness_mean</th>\n",
       "      <th>concavity_mean</th>\n",
       "      <th>concave points_mean</th>\n",
       "      <th>...</th>\n",
       "      <th>texture_worst</th>\n",
       "      <th>perimeter_worst</th>\n",
       "      <th>area_worst</th>\n",
       "      <th>smoothness_worst</th>\n",
       "      <th>compactness_worst</th>\n",
       "      <th>concavity_worst</th>\n",
       "      <th>concave points_worst</th>\n",
       "      <th>symmetry_worst</th>\n",
       "      <th>fractal_dimension_worst</th>\n",
       "      <th>Unnamed: 32</th>\n",
       "    </tr>\n",
       "  </thead>\n",
       "  <tbody>\n",
       "    <tr>\n",
       "      <th>0</th>\n",
       "      <td>842302</td>\n",
       "      <td>M</td>\n",
       "      <td>17.990</td>\n",
       "      <td>10.380</td>\n",
       "      <td>122.800</td>\n",
       "      <td>1001.000</td>\n",
       "      <td>0.118</td>\n",
       "      <td>0.278</td>\n",
       "      <td>0.300</td>\n",
       "      <td>0.147</td>\n",
       "      <td>...</td>\n",
       "      <td>17.330</td>\n",
       "      <td>184.600</td>\n",
       "      <td>2019.000</td>\n",
       "      <td>0.162</td>\n",
       "      <td>0.666</td>\n",
       "      <td>0.712</td>\n",
       "      <td>0.265</td>\n",
       "      <td>0.460</td>\n",
       "      <td>0.119</td>\n",
       "      <td>nan</td>\n",
       "    </tr>\n",
       "    <tr>\n",
       "      <th>1</th>\n",
       "      <td>842517</td>\n",
       "      <td>M</td>\n",
       "      <td>20.570</td>\n",
       "      <td>17.770</td>\n",
       "      <td>132.900</td>\n",
       "      <td>1326.000</td>\n",
       "      <td>0.085</td>\n",
       "      <td>0.079</td>\n",
       "      <td>0.087</td>\n",
       "      <td>0.070</td>\n",
       "      <td>...</td>\n",
       "      <td>23.410</td>\n",
       "      <td>158.800</td>\n",
       "      <td>1956.000</td>\n",
       "      <td>0.124</td>\n",
       "      <td>0.187</td>\n",
       "      <td>0.242</td>\n",
       "      <td>0.186</td>\n",
       "      <td>0.275</td>\n",
       "      <td>0.089</td>\n",
       "      <td>nan</td>\n",
       "    </tr>\n",
       "    <tr>\n",
       "      <th>2</th>\n",
       "      <td>84300903</td>\n",
       "      <td>M</td>\n",
       "      <td>19.690</td>\n",
       "      <td>21.250</td>\n",
       "      <td>130.000</td>\n",
       "      <td>1203.000</td>\n",
       "      <td>0.110</td>\n",
       "      <td>0.160</td>\n",
       "      <td>0.197</td>\n",
       "      <td>0.128</td>\n",
       "      <td>...</td>\n",
       "      <td>25.530</td>\n",
       "      <td>152.500</td>\n",
       "      <td>1709.000</td>\n",
       "      <td>0.144</td>\n",
       "      <td>0.424</td>\n",
       "      <td>0.450</td>\n",
       "      <td>0.243</td>\n",
       "      <td>0.361</td>\n",
       "      <td>0.088</td>\n",
       "      <td>nan</td>\n",
       "    </tr>\n",
       "    <tr>\n",
       "      <th>3</th>\n",
       "      <td>84348301</td>\n",
       "      <td>M</td>\n",
       "      <td>11.420</td>\n",
       "      <td>20.380</td>\n",
       "      <td>77.580</td>\n",
       "      <td>386.100</td>\n",
       "      <td>0.142</td>\n",
       "      <td>0.284</td>\n",
       "      <td>0.241</td>\n",
       "      <td>0.105</td>\n",
       "      <td>...</td>\n",
       "      <td>26.500</td>\n",
       "      <td>98.870</td>\n",
       "      <td>567.700</td>\n",
       "      <td>0.210</td>\n",
       "      <td>0.866</td>\n",
       "      <td>0.687</td>\n",
       "      <td>0.258</td>\n",
       "      <td>0.664</td>\n",
       "      <td>0.173</td>\n",
       "      <td>nan</td>\n",
       "    </tr>\n",
       "    <tr>\n",
       "      <th>4</th>\n",
       "      <td>84358402</td>\n",
       "      <td>M</td>\n",
       "      <td>20.290</td>\n",
       "      <td>14.340</td>\n",
       "      <td>135.100</td>\n",
       "      <td>1297.000</td>\n",
       "      <td>0.100</td>\n",
       "      <td>0.133</td>\n",
       "      <td>0.198</td>\n",
       "      <td>0.104</td>\n",
       "      <td>...</td>\n",
       "      <td>16.670</td>\n",
       "      <td>152.200</td>\n",
       "      <td>1575.000</td>\n",
       "      <td>0.137</td>\n",
       "      <td>0.205</td>\n",
       "      <td>0.400</td>\n",
       "      <td>0.163</td>\n",
       "      <td>0.236</td>\n",
       "      <td>0.077</td>\n",
       "      <td>nan</td>\n",
       "    </tr>\n",
       "  </tbody>\n",
       "</table>\n",
       "<p>5 rows × 33 columns</p>\n",
       "</div>"
      ],
      "text/plain": [
       "         id diagnosis  radius_mean  texture_mean  perimeter_mean  area_mean  \\\n",
       "0    842302         M       17.990        10.380         122.800   1001.000   \n",
       "1    842517         M       20.570        17.770         132.900   1326.000   \n",
       "2  84300903         M       19.690        21.250         130.000   1203.000   \n",
       "3  84348301         M       11.420        20.380          77.580    386.100   \n",
       "4  84358402         M       20.290        14.340         135.100   1297.000   \n",
       "\n",
       "   smoothness_mean  compactness_mean  concavity_mean  concave points_mean  \\\n",
       "0            0.118             0.278           0.300                0.147   \n",
       "1            0.085             0.079           0.087                0.070   \n",
       "2            0.110             0.160           0.197                0.128   \n",
       "3            0.142             0.284           0.241                0.105   \n",
       "4            0.100             0.133           0.198                0.104   \n",
       "\n",
       "      ...       texture_worst  perimeter_worst  area_worst  smoothness_worst  \\\n",
       "0     ...              17.330          184.600    2019.000             0.162   \n",
       "1     ...              23.410          158.800    1956.000             0.124   \n",
       "2     ...              25.530          152.500    1709.000             0.144   \n",
       "3     ...              26.500           98.870     567.700             0.210   \n",
       "4     ...              16.670          152.200    1575.000             0.137   \n",
       "\n",
       "   compactness_worst  concavity_worst  concave points_worst  symmetry_worst  \\\n",
       "0              0.666            0.712                 0.265           0.460   \n",
       "1              0.187            0.242                 0.186           0.275   \n",
       "2              0.424            0.450                 0.243           0.361   \n",
       "3              0.866            0.687                 0.258           0.664   \n",
       "4              0.205            0.400                 0.163           0.236   \n",
       "\n",
       "   fractal_dimension_worst  Unnamed: 32  \n",
       "0                    0.119          nan  \n",
       "1                    0.089          nan  \n",
       "2                    0.088          nan  \n",
       "3                    0.173          nan  \n",
       "4                    0.077          nan  \n",
       "\n",
       "[5 rows x 33 columns]"
      ]
     },
     "execution_count": 4,
     "metadata": {},
     "output_type": "execute_result"
    }
   ],
   "source": [
    "# Preview Data\n",
    "df.head()"
   ]
  },
  {
   "cell_type": "code",
   "execution_count": 5,
   "metadata": {},
   "outputs": [
    {
     "data": {
      "text/plain": [
       "id                           0\n",
       "diagnosis                    0\n",
       "radius_mean                  0\n",
       "texture_mean                 0\n",
       "perimeter_mean               0\n",
       "area_mean                    0\n",
       "smoothness_mean              0\n",
       "compactness_mean             0\n",
       "concavity_mean               0\n",
       "concave points_mean          0\n",
       "symmetry_mean                0\n",
       "fractal_dimension_mean       0\n",
       "radius_se                    0\n",
       "texture_se                   0\n",
       "perimeter_se                 0\n",
       "area_se                      0\n",
       "smoothness_se                0\n",
       "compactness_se               0\n",
       "concavity_se                 0\n",
       "concave points_se            0\n",
       "symmetry_se                  0\n",
       "fractal_dimension_se         0\n",
       "radius_worst                 0\n",
       "texture_worst                0\n",
       "perimeter_worst              0\n",
       "area_worst                   0\n",
       "smoothness_worst             0\n",
       "compactness_worst            0\n",
       "concavity_worst              0\n",
       "concave points_worst         0\n",
       "symmetry_worst               0\n",
       "fractal_dimension_worst      0\n",
       "Unnamed: 32                569\n",
       "dtype: int64"
      ]
     },
     "execution_count": 5,
     "metadata": {},
     "output_type": "execute_result"
    }
   ],
   "source": [
    "# Evaluate missing values\n",
    "df.isnull().sum()"
   ]
  },
  {
   "cell_type": "code",
   "execution_count": 6,
   "metadata": {
    "collapsed": true
   },
   "outputs": [],
   "source": [
    "# Drop unnecessary columns\n",
    "df.drop(['Unnamed: 32',\"id\"],axis=1,inplace=True)"
   ]
  },
  {
   "cell_type": "code",
   "execution_count": 7,
   "metadata": {
    "collapsed": true
   },
   "outputs": [],
   "source": [
    "# Convert diagnosis categories into numeric values for analysis \n",
    "diagnosis_vals = {\"diagnosis\": {\"B\":0, \"M\":1}}\n",
    "df.replace(diagnosis_vals,inplace=True)"
   ]
  },
  {
   "cell_type": "code",
   "execution_count": 8,
   "metadata": {
    "scrolled": false
   },
   "outputs": [
    {
     "data": {
      "text/html": [
       "<div>\n",
       "<style>\n",
       "    .dataframe thead tr:only-child th {\n",
       "        text-align: right;\n",
       "    }\n",
       "\n",
       "    .dataframe thead th {\n",
       "        text-align: left;\n",
       "    }\n",
       "\n",
       "    .dataframe tbody tr th {\n",
       "        vertical-align: top;\n",
       "    }\n",
       "</style>\n",
       "<table border=\"1\" class=\"dataframe\">\n",
       "  <thead>\n",
       "    <tr style=\"text-align: right;\">\n",
       "      <th></th>\n",
       "      <th>diagnosis</th>\n",
       "      <th>radius_mean</th>\n",
       "      <th>texture_mean</th>\n",
       "      <th>perimeter_mean</th>\n",
       "      <th>area_mean</th>\n",
       "      <th>smoothness_mean</th>\n",
       "      <th>compactness_mean</th>\n",
       "      <th>concavity_mean</th>\n",
       "      <th>concave points_mean</th>\n",
       "      <th>symmetry_mean</th>\n",
       "      <th>...</th>\n",
       "      <th>radius_worst</th>\n",
       "      <th>texture_worst</th>\n",
       "      <th>perimeter_worst</th>\n",
       "      <th>area_worst</th>\n",
       "      <th>smoothness_worst</th>\n",
       "      <th>compactness_worst</th>\n",
       "      <th>concavity_worst</th>\n",
       "      <th>concave points_worst</th>\n",
       "      <th>symmetry_worst</th>\n",
       "      <th>fractal_dimension_worst</th>\n",
       "    </tr>\n",
       "  </thead>\n",
       "  <tbody>\n",
       "    <tr>\n",
       "      <th>0</th>\n",
       "      <td>1.000</td>\n",
       "      <td>0.521</td>\n",
       "      <td>0.023</td>\n",
       "      <td>0.546</td>\n",
       "      <td>0.364</td>\n",
       "      <td>0.594</td>\n",
       "      <td>0.792</td>\n",
       "      <td>0.703</td>\n",
       "      <td>0.731</td>\n",
       "      <td>0.686</td>\n",
       "      <td>...</td>\n",
       "      <td>0.621</td>\n",
       "      <td>0.142</td>\n",
       "      <td>0.668</td>\n",
       "      <td>0.451</td>\n",
       "      <td>0.601</td>\n",
       "      <td>0.619</td>\n",
       "      <td>0.569</td>\n",
       "      <td>0.912</td>\n",
       "      <td>0.598</td>\n",
       "      <td>0.419</td>\n",
       "    </tr>\n",
       "    <tr>\n",
       "      <th>1</th>\n",
       "      <td>1.000</td>\n",
       "      <td>0.643</td>\n",
       "      <td>0.273</td>\n",
       "      <td>0.616</td>\n",
       "      <td>0.502</td>\n",
       "      <td>0.290</td>\n",
       "      <td>0.182</td>\n",
       "      <td>0.204</td>\n",
       "      <td>0.349</td>\n",
       "      <td>0.380</td>\n",
       "      <td>...</td>\n",
       "      <td>0.607</td>\n",
       "      <td>0.304</td>\n",
       "      <td>0.540</td>\n",
       "      <td>0.435</td>\n",
       "      <td>0.348</td>\n",
       "      <td>0.155</td>\n",
       "      <td>0.193</td>\n",
       "      <td>0.639</td>\n",
       "      <td>0.234</td>\n",
       "      <td>0.223</td>\n",
       "    </tr>\n",
       "    <tr>\n",
       "      <th>2</th>\n",
       "      <td>1.000</td>\n",
       "      <td>0.601</td>\n",
       "      <td>0.390</td>\n",
       "      <td>0.596</td>\n",
       "      <td>0.449</td>\n",
       "      <td>0.514</td>\n",
       "      <td>0.431</td>\n",
       "      <td>0.463</td>\n",
       "      <td>0.636</td>\n",
       "      <td>0.510</td>\n",
       "      <td>...</td>\n",
       "      <td>0.556</td>\n",
       "      <td>0.360</td>\n",
       "      <td>0.508</td>\n",
       "      <td>0.375</td>\n",
       "      <td>0.484</td>\n",
       "      <td>0.385</td>\n",
       "      <td>0.360</td>\n",
       "      <td>0.835</td>\n",
       "      <td>0.404</td>\n",
       "      <td>0.213</td>\n",
       "    </tr>\n",
       "    <tr>\n",
       "      <th>3</th>\n",
       "      <td>1.000</td>\n",
       "      <td>0.210</td>\n",
       "      <td>0.361</td>\n",
       "      <td>0.234</td>\n",
       "      <td>0.103</td>\n",
       "      <td>0.811</td>\n",
       "      <td>0.811</td>\n",
       "      <td>0.566</td>\n",
       "      <td>0.523</td>\n",
       "      <td>0.776</td>\n",
       "      <td>...</td>\n",
       "      <td>0.248</td>\n",
       "      <td>0.386</td>\n",
       "      <td>0.241</td>\n",
       "      <td>0.094</td>\n",
       "      <td>0.915</td>\n",
       "      <td>0.814</td>\n",
       "      <td>0.549</td>\n",
       "      <td>0.885</td>\n",
       "      <td>1.000</td>\n",
       "      <td>0.774</td>\n",
       "    </tr>\n",
       "    <tr>\n",
       "      <th>4</th>\n",
       "      <td>1.000</td>\n",
       "      <td>0.630</td>\n",
       "      <td>0.157</td>\n",
       "      <td>0.631</td>\n",
       "      <td>0.489</td>\n",
       "      <td>0.430</td>\n",
       "      <td>0.348</td>\n",
       "      <td>0.464</td>\n",
       "      <td>0.518</td>\n",
       "      <td>0.378</td>\n",
       "      <td>...</td>\n",
       "      <td>0.520</td>\n",
       "      <td>0.124</td>\n",
       "      <td>0.507</td>\n",
       "      <td>0.342</td>\n",
       "      <td>0.437</td>\n",
       "      <td>0.172</td>\n",
       "      <td>0.319</td>\n",
       "      <td>0.558</td>\n",
       "      <td>0.158</td>\n",
       "      <td>0.143</td>\n",
       "    </tr>\n",
       "  </tbody>\n",
       "</table>\n",
       "<p>5 rows × 31 columns</p>\n",
       "</div>"
      ],
      "text/plain": [
       "   diagnosis  radius_mean  texture_mean  perimeter_mean  area_mean  \\\n",
       "0      1.000        0.521         0.023           0.546      0.364   \n",
       "1      1.000        0.643         0.273           0.616      0.502   \n",
       "2      1.000        0.601         0.390           0.596      0.449   \n",
       "3      1.000        0.210         0.361           0.234      0.103   \n",
       "4      1.000        0.630         0.157           0.631      0.489   \n",
       "\n",
       "   smoothness_mean  compactness_mean  concavity_mean  concave points_mean  \\\n",
       "0            0.594             0.792           0.703                0.731   \n",
       "1            0.290             0.182           0.204                0.349   \n",
       "2            0.514             0.431           0.463                0.636   \n",
       "3            0.811             0.811           0.566                0.523   \n",
       "4            0.430             0.348           0.464                0.518   \n",
       "\n",
       "   symmetry_mean           ...             radius_worst  texture_worst  \\\n",
       "0          0.686           ...                    0.621          0.142   \n",
       "1          0.380           ...                    0.607          0.304   \n",
       "2          0.510           ...                    0.556          0.360   \n",
       "3          0.776           ...                    0.248          0.386   \n",
       "4          0.378           ...                    0.520          0.124   \n",
       "\n",
       "   perimeter_worst  area_worst  smoothness_worst  compactness_worst  \\\n",
       "0            0.668       0.451             0.601              0.619   \n",
       "1            0.540       0.435             0.348              0.155   \n",
       "2            0.508       0.375             0.484              0.385   \n",
       "3            0.241       0.094             0.915              0.814   \n",
       "4            0.507       0.342             0.437              0.172   \n",
       "\n",
       "   concavity_worst  concave points_worst  symmetry_worst  \\\n",
       "0            0.569                 0.912           0.598   \n",
       "1            0.193                 0.639           0.234   \n",
       "2            0.360                 0.835           0.404   \n",
       "3            0.549                 0.885           1.000   \n",
       "4            0.319                 0.558           0.158   \n",
       "\n",
       "   fractal_dimension_worst  \n",
       "0                    0.419  \n",
       "1                    0.223  \n",
       "2                    0.213  \n",
       "3                    0.774  \n",
       "4                    0.143  \n",
       "\n",
       "[5 rows x 31 columns]"
      ]
     },
     "execution_count": 8,
     "metadata": {},
     "output_type": "execute_result"
    }
   ],
   "source": [
    "# Normalize data \n",
    "from sklearn import preprocessing\n",
    "\n",
    "min_max_scaler = preprocessing.MinMaxScaler()\n",
    "np_scaled = min_max_scaler.fit_transform(df)\n",
    "df_normalized = pd.DataFrame(np_scaled,columns=df.columns)\n",
    "df_normalized.head()"
   ]
  },
  {
   "cell_type": "code",
   "execution_count": 9,
   "metadata": {
    "scrolled": false
   },
   "outputs": [
    {
     "data": {
      "text/plain": [
       "0    357\n",
       "1    212\n",
       "Name: diagnosis, dtype: int64"
      ]
     },
     "execution_count": 9,
     "metadata": {},
     "output_type": "execute_result"
    }
   ],
   "source": [
    "# Evaluate class balance\n",
    "df['diagnosis'].value_counts()"
   ]
  },
  {
   "cell_type": "markdown",
   "metadata": {},
   "source": [
    "## Feature Selection / Examining Feature Importance"
   ]
  },
  {
   "cell_type": "code",
   "execution_count": 10,
   "metadata": {
    "collapsed": true
   },
   "outputs": [],
   "source": [
    "# Split dataset into training and testing subsets\n",
    "from sklearn.model_selection import train_test_split\n",
    "\n",
    "X = df.drop('diagnosis',axis=1)\n",
    "y = df['diagnosis']"
   ]
  },
  {
   "cell_type": "markdown",
   "metadata": {},
   "source": [
    "### Chi2"
   ]
  },
  {
   "cell_type": "code",
   "execution_count": 11,
   "metadata": {},
   "outputs": [],
   "source": [
    "from sklearn.linear_model import LogisticRegression\n",
    "from sklearn.feature_selection import SelectKBest\n",
    "from sklearn.feature_selection import chi2\n",
    "from sklearn.pipeline import Pipeline\n",
    "from sklearn.model_selection import GridSearchCV"
   ]
  },
  {
   "cell_type": "code",
   "execution_count": 12,
   "metadata": {},
   "outputs": [
    {
     "data": {
      "text/plain": [
       "30"
      ]
     },
     "execution_count": 12,
     "metadata": {},
     "output_type": "execute_result"
    }
   ],
   "source": [
    "len(X.columns)"
   ]
  },
  {
   "cell_type": "code",
   "execution_count": 13,
   "metadata": {},
   "outputs": [
    {
     "data": {
      "text/plain": [
       "GridSearchCV(cv=None, error_score='raise',\n",
       "       estimator=Pipeline(memory=None,\n",
       "     steps=[('kbest', SelectKBest(k=10, score_func=<function chi2 at 0x1c1d8bfa60>)), ('lr', LogisticRegression(C=1.0, class_weight=None, dual=False, fit_intercept=True,\n",
       "          intercept_scaling=1, max_iter=100, multi_class='ovr', n_jobs=1,\n",
       "          penalty='l2', random_state=None, solver='liblinear', tol=0.0001,\n",
       "          verbose=0, warm_start=False))]),\n",
       "       fit_params=None, iid=True, n_jobs=1,\n",
       "       param_grid={'kbest__k': [1, 4, 7, 10, 13, 16, 19, 22, 25, 28], 'lr__C': array([  1.00000e-10,   1.00000e-05,   1.00000e+00,   1.00000e+05,\n",
       "         1.00000e+10])},\n",
       "       pre_dispatch='2*n_jobs', refit=True, return_train_score='warn',\n",
       "       scoring=None, verbose=0)"
      ]
     },
     "execution_count": 13,
     "metadata": {},
     "output_type": "execute_result"
    }
   ],
   "source": [
    "kbest = SelectKBest(chi2)\n",
    "pipeline = Pipeline([('kbest', kbest), ('lr', LogisticRegression())])\n",
    "grid_search = GridSearchCV(pipeline, {'kbest__k': list(range(1,31,3)), 'lr__C': np.logspace(-10, 10, 5)})\n",
    "grid_search.fit(X, y)"
   ]
  },
  {
   "cell_type": "code",
   "execution_count": 14,
   "metadata": {},
   "outputs": [
    {
     "data": {
      "text/plain": [
       "{'kbest__k': 22, 'lr__C': 10000000000.0}"
      ]
     },
     "execution_count": 14,
     "metadata": {},
     "output_type": "execute_result"
    }
   ],
   "source": [
    "grid_search.best_params_"
   ]
  },
  {
   "cell_type": "code",
   "execution_count": 15,
   "metadata": {},
   "outputs": [],
   "source": [
    "from sklearn.feature_selection import chi2\n",
    "selector = SelectKBest(chi2,k=5)\n",
    "selector.fit(X,y)\n",
    "mask = selector.get_support(indices=True)\n",
    "chi2_features = X.columns[mask]"
   ]
  },
  {
   "cell_type": "code",
   "execution_count": 16,
   "metadata": {
    "scrolled": true
   },
   "outputs": [
    {
     "data": {
      "text/plain": [
       "Index(['perimeter_mean', 'area_mean', 'area_se', 'perimeter_worst',\n",
       "       'area_worst'],\n",
       "      dtype='object')"
      ]
     },
     "execution_count": 16,
     "metadata": {},
     "output_type": "execute_result"
    }
   ],
   "source": [
    "chi2_features"
   ]
  },
  {
   "cell_type": "markdown",
   "metadata": {},
   "source": [
    "### Anova F-value"
   ]
  },
  {
   "cell_type": "code",
   "execution_count": 17,
   "metadata": {
    "collapsed": true
   },
   "outputs": [],
   "source": [
    "from sklearn.feature_selection import f_classif\n",
    "selector = SelectKBest(f_classif,k=5)\n",
    "selector.fit(X,y)\n",
    "mask = selector.get_support(indices=True)\n",
    "fval_features = X.columns[mask]"
   ]
  },
  {
   "cell_type": "code",
   "execution_count": 18,
   "metadata": {
    "scrolled": false
   },
   "outputs": [
    {
     "data": {
      "text/plain": [
       "Index(['perimeter_mean', 'concave points_mean', 'radius_worst',\n",
       "       'perimeter_worst', 'concave points_worst'],\n",
       "      dtype='object')"
      ]
     },
     "execution_count": 18,
     "metadata": {},
     "output_type": "execute_result"
    }
   ],
   "source": [
    "fval_features"
   ]
  },
  {
   "cell_type": "markdown",
   "metadata": {},
   "source": [
    "### Mutual Information"
   ]
  },
  {
   "cell_type": "code",
   "execution_count": 19,
   "metadata": {
    "collapsed": true
   },
   "outputs": [],
   "source": [
    "from sklearn.feature_selection import mutual_info_classif\n",
    "selector = SelectKBest(mutual_info_classif,k=5)\n",
    "selector.fit(X,y)\n",
    "mask = selector.get_support(indices=True)\n",
    "mutualinfo_features = X.columns[mask]"
   ]
  },
  {
   "cell_type": "code",
   "execution_count": 20,
   "metadata": {
    "scrolled": false
   },
   "outputs": [
    {
     "data": {
      "text/plain": [
       "Index(['concave points_mean', 'radius_worst', 'perimeter_worst', 'area_worst',\n",
       "       'concave points_worst'],\n",
       "      dtype='object')"
      ]
     },
     "execution_count": 20,
     "metadata": {},
     "output_type": "execute_result"
    }
   ],
   "source": [
    "mutualinfo_features"
   ]
  },
  {
   "cell_type": "markdown",
   "metadata": {},
   "source": [
    "### PCA"
   ]
  },
  {
   "cell_type": "code",
   "execution_count": 21,
   "metadata": {},
   "outputs": [
    {
     "data": {
      "text/plain": [
       "<matplotlib.text.Text at 0x1c22984a20>"
      ]
     },
     "execution_count": 21,
     "metadata": {},
     "output_type": "execute_result"
    },
    {
     "data": {
      "image/png": "[encoded data removed]",
      "text/plain": [
       "<matplotlib.figure.Figure at 0x1c1daff6d8>"
      ]
     },
     "metadata": {},
     "output_type": "display_data"
    }
   ],
   "source": [
    "from sklearn.decomposition import PCA\n",
    "pca = PCA().fit(X)\n",
    "plt.plot(np.cumsum(pca.explained_variance_ratio_))\n",
    "plt.xlabel('Num Components')\n",
    "plt.ylabel('Cumulative explained variance')"
   ]
  },
  {
   "cell_type": "code",
   "execution_count": 22,
   "metadata": {},
   "outputs": [
    {
     "data": {
      "text/plain": [
       "array([ 0.98204467,  0.01617649,  0.00155751,  0.00012093,  0.00008827,\n",
       "        0.00000665,  0.00000402,  0.00000082,  0.00000034,  0.00000019,\n",
       "        0.00000007,  0.00000002,  0.00000001,  0.        ,  0.        ,\n",
       "        0.        ,  0.        ,  0.        ,  0.        ,  0.        ,\n",
       "        0.        ,  0.        ,  0.        ,  0.        ,  0.        ,\n",
       "        0.        ,  0.        ,  0.        ,  0.        ,  0.        ])"
      ]
     },
     "execution_count": 22,
     "metadata": {},
     "output_type": "execute_result"
    }
   ],
   "source": [
    "pca.explained_variance_ratio_"
   ]
  },
  {
   "cell_type": "code",
   "execution_count": 23,
   "metadata": {
    "collapsed": true
   },
   "outputs": [],
   "source": [
    "components = 1"
   ]
  },
  {
   "cell_type": "markdown",
   "metadata": {},
   "source": [
    "## Model"
   ]
  },
  {
   "cell_type": "code",
   "execution_count": 24,
   "metadata": {},
   "outputs": [
    {
     "name": "stdout",
     "output_type": "stream",
     "text": [
      "Verify balanced classes: (array([0, 1]), array([357, 357]))\n"
     ]
    }
   ],
   "source": [
    "# Oversample data\n",
    "from imblearn.over_sampling import SMOTE\n",
    "sm = SMOTE(random_state=12)\n",
    "\n",
    "X, y = sm.fit_sample(X, y)\n",
    "\n",
    "# Split dataset into training and testing subsets\n",
    "from sklearn.model_selection import train_test_split\n",
    "X_train, X_test, y_train, y_test = train_test_split(X, y, test_size = .33, random_state=12)\n",
    "\n",
    "# Verify that data are resampled\n",
    "print(\"Verify balanced classes:\",np.unique(y,return_counts=True))"
   ]
  },
  {
   "cell_type": "code",
   "execution_count": 27,
   "metadata": {},
   "outputs": [],
   "source": [
    "# Establish number of features to test each time during grid search\n",
    "features = list(range(1,len(df.columns),3))"
   ]
  },
  {
   "cell_type": "code",
   "execution_count": 29,
   "metadata": {},
   "outputs": [],
   "source": [
    "from sklearn.model_selection import train_test_split\n",
    "from sklearn.preprocessing import StandardScaler\n",
    "from sklearn.decomposition import PCA\n",
    "from sklearn.pipeline import Pipeline\n",
    "from sklearn.model_selection import GridSearchCV\n",
    "from sklearn.metrics import accuracy_score\n",
    "from sklearn.externals import joblib\n",
    "from sklearn.linear_model import LogisticRegression\n",
    "from sklearn.ensemble import RandomForestClassifier\n",
    "from sklearn import svm\n",
    "from sklearn.neighbors import KNeighborsClassifier\n",
    "from sklearn.naive_bayes import BernoulliNB\n",
    "import time\n",
    "\n",
    "kbest = SelectKBest(chi2)\n",
    "pipeline = Pipeline([('kbest', kbest), ('lr', LogisticRegression())])\n",
    "grid_search = GridSearchCV(pipeline, {'kbest__k': list(range(1,31,3)), 'lr__C': np.logspace(-10, 10, 5)})\n",
    "grid_search.fit(X, y)\n",
    "\n",
    "# Construct some pipelines\n",
    "pipe_lr = Pipeline([('kbest', kbest),\n",
    "            ('scl', StandardScaler()),\n",
    "            ('clf', LogisticRegression(random_state=42))])\n",
    "\n",
    "pipe_lr_pca = Pipeline([('scl', StandardScaler()),\n",
    "            ('pca', PCA(n_components=components)),\n",
    "            ('clf', LogisticRegression(random_state=42))])\n",
    "\n",
    "pipe_rf = Pipeline([('kbest', kbest),\n",
    "            ('scl', StandardScaler()),\n",
    "            ('clf', RandomForestClassifier(random_state=42))])\n",
    "\n",
    "pipe_rf_pca = Pipeline([('scl', StandardScaler()),\n",
    "            ('pca', PCA(n_components=components)),\n",
    "            ('clf', RandomForestClassifier(random_state=42))])\n",
    "\n",
    "pipe_svm = Pipeline([('kbest', kbest),\n",
    "            ('scl', StandardScaler()),\n",
    "            ('clf', svm.SVC(random_state=42))])\n",
    "\n",
    "pipe_svm_pca = Pipeline([('scl', StandardScaler()),\n",
    "            ('pca', PCA(n_components=components)),\n",
    "            ('clf', svm.SVC(random_state=42))])\n",
    "\n",
    "pipe_knn = Pipeline([('kbest', kbest),\n",
    "                    ('scl',StandardScaler()),\n",
    "                    ('clf',KNeighborsClassifier())])\n",
    "\n",
    "pipe_knn_pca = Pipeline([('scl', StandardScaler()),\n",
    "            ('pca', PCA(n_components=components)),\n",
    "            ('clf', KNeighborsClassifier())])\n",
    "\n",
    "pipe_nb = Pipeline([('kbest', kbest),\n",
    "            ('scl', StandardScaler()),\n",
    "            ('clf', BernoulliNB())])\n",
    "\n",
    "pipe_nb_pca = Pipeline([('scl', StandardScaler()),\n",
    "            ('clf', BernoulliNB())])\n",
    "\n",
    "# Set grid search params\n",
    "param_range = [1, 2, 3, 4, 5, 6, 7, 8, 9, 10]\n",
    "param_range_fl = [1.0, 0.5, 0.1]\n",
    "\n",
    "grid_params_lr = [{'kbest__k': features,\n",
    "        'clf__penalty': ['l1', 'l2'],\n",
    "        'clf__C': param_range_fl,\n",
    "        'clf__solver': ['liblinear']}] \n",
    "\n",
    "grid_params_lr_pca = [{'clf__penalty': ['l1', 'l2'],\n",
    "        'clf__C': param_range_fl,\n",
    "        'clf__solver': ['liblinear']}] \n",
    "\n",
    "grid_params_rf = [{'kbest__k': features,\n",
    "        'clf__criterion': ['gini', 'entropy'],\n",
    "        'clf__min_samples_leaf': param_range,\n",
    "        'clf__max_depth': param_range,\n",
    "        'clf__min_samples_split': param_range[1:]}]\n",
    "\n",
    "grid_params_rf_pca = [{'clf__criterion': ['gini', 'entropy'],\n",
    "        'clf__min_samples_leaf': param_range,\n",
    "        'clf__max_depth': param_range,\n",
    "        'clf__min_samples_split': param_range[1:]}]\n",
    "\n",
    "grid_params_svm = [{'kbest__k': features,\n",
    "        'clf__kernel': ['linear', 'rbf'], \n",
    "        'clf__C': param_range}]\n",
    "\n",
    "grid_params_svm_pca = [{'clf__kernel': ['linear', 'rbf'], \n",
    "        'clf__C': param_range}]\n",
    "\n",
    "grid_params_knn = [{\n",
    "        'kbest__k': features,\n",
    "        'clf__n_neighbors': [1,2,3,4,5,6,7,8,9,10], \n",
    "        'clf__weights': ['uniform','distance'],\n",
    "        'clf__algorithm':['ball_tree','brute','auto'],\n",
    "        'clf__leaf_size':[10,20,30,40,50,60,70,80,90,100]}]\n",
    "\n",
    "grid_params_knn_pca = [{'clf__n_neighbors': [1,2,3,4,5,6,7,8,9,10], \n",
    "        'clf__weights': ['uniform','distance'],\n",
    "        'clf__algorithm':['ball_tree','brute','auto'],\n",
    "        'clf__leaf_size':[10,20,30,40,50,60,70,80,90,100]}]\n",
    "\n",
    "grid_params_nb = [{'kbest__k':features,\n",
    "                   'clf__alpha': param_range_fl}]\n",
    "\n",
    "grid_params_nb_pca = [{'clf__alpha': param_range_fl}]\n",
    "\n",
    "\n",
    "# Construct grid searches\n",
    "jobs = -1\n",
    "\n",
    "gs_lr = GridSearchCV(estimator=pipe_lr,\n",
    "            param_grid=grid_params_lr,\n",
    "            scoring='accuracy',\n",
    "            cv=10) \n",
    "\n",
    "gs_lr_pca = GridSearchCV(estimator=pipe_lr_pca,\n",
    "            param_grid=grid_params_lr_pca,\n",
    "            scoring='accuracy',\n",
    "            cv=10)\n",
    "\n",
    "gs_rf = GridSearchCV(estimator=pipe_rf,\n",
    "            param_grid=grid_params_rf,\n",
    "            scoring='accuracy',\n",
    "            cv=10, \n",
    "            n_jobs=jobs)\n",
    "\n",
    "gs_rf_pca = GridSearchCV(estimator=pipe_rf_pca,\n",
    "            param_grid=grid_params_rf_pca,\n",
    "            scoring='accuracy',\n",
    "            cv=10, \n",
    "            n_jobs=jobs)\n",
    "\n",
    "gs_svm = GridSearchCV(estimator=pipe_svm,\n",
    "            param_grid=grid_params_svm,\n",
    "            scoring='accuracy',\n",
    "            cv=10,\n",
    "            n_jobs=jobs)\n",
    "\n",
    "gs_svm_pca = GridSearchCV(estimator=pipe_svm_pca,\n",
    "            param_grid=grid_params_svm_pca,\n",
    "            scoring='accuracy',\n",
    "            cv=10,\n",
    "            n_jobs=jobs)\n",
    "\n",
    "gs_knn = GridSearchCV(estimator=pipe_knn,\n",
    "            param_grid=grid_params_knn,\n",
    "            scoring='accuracy',\n",
    "            cv=10,\n",
    "            n_jobs=jobs)\n",
    "\n",
    "gs_knn_pca = GridSearchCV(estimator=pipe_knn_pca,\n",
    "            param_grid=grid_params_knn_pca,\n",
    "            scoring='accuracy',\n",
    "            cv=10,\n",
    "            n_jobs=jobs)\n",
    "\n",
    "gs_nb = GridSearchCV(estimator=pipe_nb,\n",
    "            param_grid=grid_params_nb,\n",
    "            scoring='accuracy',\n",
    "            cv=10,\n",
    "            n_jobs=jobs)\n",
    "\n",
    "gs_nb_pca = GridSearchCV(estimator=pipe_nb_pca,\n",
    "            param_grid=grid_params_nb_pca,\n",
    "            scoring='accuracy',\n",
    "            cv=10,\n",
    "            n_jobs=jobs)\n",
    "\n",
    "\n",
    "\n",
    "# List of pipelines for ease of iteration\n",
    "grids = [gs_lr, gs_lr_pca, gs_rf, gs_rf_pca, gs_svm, gs_svm_pca,gs_knn,gs_knn_pca,gs_nb,gs_nb_pca]\n",
    "\n",
    "\n",
    "# Dictionary of pipelines and classifier types for ease of reference\n",
    "grid_dict = {0: 'Logistic Regression', 1: 'Logistic Regression w/PCA', \n",
    "        2: 'Random Forest', 3: 'Random Forest w/PCA', \n",
    "        4: 'Support Vector Machine', 5: 'Support Vector Machine w/PCA', 6: 'K Nearest Neighbors',\n",
    "            7: 'K Nearest Neighbors w/ PCA', 8: 'Naive Bayes',\n",
    "            9: 'Naive Bayes w/ PCA'}\n",
    "    \n"
   ]
  },
  {
   "cell_type": "code",
   "execution_count": 30,
   "metadata": {},
   "outputs": [
    {
     "name": "stdout",
     "output_type": "stream",
     "text": [
      "Performing model optimizations...\n",
      "\n",
      "Estimator: Logistic Regression\n",
      "Best params: {'clf__C': 1.0, 'clf__penalty': 'l1', 'clf__solver': 'liblinear', 'kbest__k': 22}\n",
      "Best training accuracy: 0.973\n",
      "Test set accuracy score for best params: 0.975 \n",
      "\n",
      "Estimator: Logistic Regression w/PCA\n",
      "Best params: {'clf__C': 0.1, 'clf__penalty': 'l2', 'clf__solver': 'liblinear'}\n",
      "Best training accuracy: 0.914\n",
      "Test set accuracy score for best params: 0.924 \n",
      "\n",
      "Estimator: Random Forest\n",
      "Best params: {'clf__criterion': 'entropy', 'clf__max_depth': 8, 'clf__min_samples_leaf': 1, 'clf__min_samples_split': 6, 'kbest__k': 28}\n",
      "Best training accuracy: 0.971\n",
      "Test set accuracy score for best params: 0.966 \n",
      "\n",
      "Estimator: Random Forest w/PCA\n",
      "Best params: {'clf__criterion': 'gini', 'clf__max_depth': 1, 'clf__min_samples_leaf': 1, 'clf__min_samples_split': 2}\n",
      "Best training accuracy: 0.916\n",
      "Test set accuracy score for best params: 0.932 \n",
      "\n",
      "Estimator: Support Vector Machine\n",
      "Best params: {'clf__C': 5, 'clf__kernel': 'rbf', 'kbest__k': 22}\n",
      "Best training accuracy: 0.975\n",
      "Test set accuracy score for best params: 0.987 \n",
      "\n",
      "Estimator: Support Vector Machine w/PCA\n",
      "Best params: {'clf__C': 4, 'clf__kernel': 'rbf'}\n",
      "Best training accuracy: 0.914\n",
      "Test set accuracy score for best params: 0.945 \n",
      "\n",
      "Estimator: K Nearest Neighbors\n",
      "Best params: {'clf__algorithm': 'ball_tree', 'clf__leaf_size': 10, 'clf__n_neighbors': 9, 'clf__weights': 'distance', 'kbest__k': 22}\n",
      "Best training accuracy: 0.973\n",
      "Test set accuracy score for best params: 0.983 \n",
      "\n",
      "Estimator: K Nearest Neighbors w/ PCA\n",
      "Best params: {'clf__algorithm': 'ball_tree', 'clf__leaf_size': 10, 'clf__n_neighbors': 4, 'clf__weights': 'uniform'}\n",
      "Best training accuracy: 0.912\n",
      "Test set accuracy score for best params: 0.886 \n",
      "\n",
      "Estimator: Naive Bayes\n",
      "Best params: {'clf__alpha': 1.0, 'kbest__k': 22}\n",
      "Best training accuracy: 0.937\n",
      "Test set accuracy score for best params: 0.945 \n",
      "\n",
      "Estimator: Naive Bayes w/ PCA\n",
      "Best params: {'clf__alpha': 1.0}\n",
      "Best training accuracy: 0.937\n",
      "Test set accuracy score for best params: 0.936 \n",
      "\n",
      "Classifier with best test set accuracy: Support Vector Machine\n",
      "\n",
      "Saved Support Vector Machine grid search pipeline to file: best_gs_pipeline.pkl\n"
     ]
    }
   ],
   "source": [
    "# Fit the grid search objects\n",
    "print('Performing model optimizations...')\n",
    "best_acc = 0.0\n",
    "best_clf = 0\n",
    "best_gs = ''\n",
    "for idx, gs in enumerate(grids):\n",
    "    print('\\nEstimator: %s' % grid_dict[idx])\n",
    "    # Fit grid search\n",
    "    gs.fit(X_train, y_train)\n",
    "    # Best params\n",
    "    print('Best params: %s' % gs.best_params_)\n",
    "    # Best training data accuracy\n",
    "    print('Best training accuracy: %.3f' % gs.best_score_)\n",
    "    # Predict on test data with best params\n",
    "    y_pred = gs.predict(X_test)\n",
    "    # Test data accuracy of model with best params\n",
    "    print('Test set accuracy score for best params: %.3f ' % accuracy_score(y_test, y_pred))\n",
    "    # Track best (highest test accuracy) model\n",
    "    if accuracy_score(y_test, y_pred) > best_acc:\n",
    "        best_acc = accuracy_score(y_test, y_pred)\n",
    "        best_gs = gs\n",
    "        best_clf = idx\n",
    "print('\\nClassifier with best test set accuracy: %s' % grid_dict[best_clf])\n",
    "\n",
    "# Save best grid search pipeline to file\n",
    "dump_file = 'best_gs_pipeline.pkl'\n",
    "joblib.dump(best_gs, dump_file, compress=1)\n",
    "print('\\nSaved %s grid search pipeline to file: %s' % (grid_dict[best_clf], dump_file))"
   ]
  }
 ],
 "metadata": {
  "kernelspec": {
   "display_name": "Python 3",
   "language": "python",
   "name": "python3"
  },
  "language_info": {
   "codemirror_mode": {
    "name": "ipython",
    "version": 3
   },
   "file_extension": ".py",
   "mimetype": "text/x-python",
   "name": "python",
   "nbconvert_exporter": "python",
   "pygments_lexer": "ipython3",
   "version": "3.6.1"
  }
 },
 "nbformat": 4,
 "nbformat_minor": 2
}
